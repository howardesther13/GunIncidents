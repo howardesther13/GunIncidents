{
 "cells": [
  {
   "cell_type": "markdown",
   "id": "f2861ad7",
   "metadata": {},
   "source": [
    "### This script contains the following:\n",
    "\n",
    "#### 1. Importing libraries \n",
    "#### 2. Importing Data\n",
    "#### 3. Cleaning Data\n",
    "#### 4. Explore your data visually (e.g., by way of a scatterplot), looking for variables whose relationship you’d like to test.\n",
    "#### 5. State your hypothesis in a markdown cell within your Jupyter notebook.\n",
    "#### 6. Reshape the variables into NumPy arrays, with X being the independent variable and y being the dependent variable.\n",
    "#### 7. Split the data into two sets: a training set and a test set.\n",
    "#### 8.Run a linear regression on the data.\n",
    "###### 8.1 First, fit the model you created to the training set.\n",
    "###### 8.2 Then, create a prediction for y on the test set.\n",
    "#### 9. Create a plot that shows the regression line on the test set.\n",
    "#### 10. Write your own interpretation of how well the line appears to fit the data in a markdown cell.\n",
    "#### 11. Check the model performance statistics—MSE and R2 score.\n",
    "#### 12. Compare the predicted y values with the actual y values in a dataframe.\n",
    "#### 13. Include your thoughts on how well the model performed on the test set in a markdown cell.\n",
    "#### 14. Save dataframe"
   ]
  },
  {
   "cell_type": "markdown",
   "id": "cad0ec7f",
   "metadata": {},
   "source": [
    "#### 1. Importing libraries"
   ]
  },
  {
   "cell_type": "code",
   "execution_count": 1,
   "id": "5ae6ac92",
   "metadata": {},
   "outputs": [],
   "source": [
    "import pandas as pd\n",
    "import numpy as np\n",
    "import seaborn as sns\n",
    "import matplotlib\n",
    "import matplotlib.pyplot as plt\n",
    "import os\n",
    "import sklearn\n",
    "from sklearn.model_selection import train_test_split \n",
    "from sklearn.linear_model import LinearRegression\n",
    "from sklearn.metrics import mean_squared_error, r2_score"
   ]
  },
  {
   "cell_type": "code",
   "execution_count": 2,
   "id": "ebcaeb66",
   "metadata": {},
   "outputs": [],
   "source": [
    "# This option ensures that the graphs you create are displayed within the notebook without the need to \"call\" them specifically.\n",
    "\n",
    "%matplotlib inline"
   ]
  },
  {
   "cell_type": "markdown",
   "id": "dfd3da2b",
   "metadata": {},
   "source": [
    "#### 2. Importing data"
   ]
  },
  {
   "cell_type": "code",
   "execution_count": 3,
   "id": "83a3ae8b",
   "metadata": {
    "scrolled": false
   },
   "outputs": [
    {
     "data": {
      "text/html": [
       "<div>\n",
       "<style scoped>\n",
       "    .dataframe tbody tr th:only-of-type {\n",
       "        vertical-align: middle;\n",
       "    }\n",
       "\n",
       "    .dataframe tbody tr th {\n",
       "        vertical-align: top;\n",
       "    }\n",
       "\n",
       "    .dataframe thead th {\n",
       "        text-align: right;\n",
       "    }\n",
       "</style>\n",
       "<table border=\"1\" class=\"dataframe\">\n",
       "  <thead>\n",
       "    <tr style=\"text-align: right;\">\n",
       "      <th></th>\n",
       "      <th>Unnamed: 0</th>\n",
       "      <th>incident_id</th>\n",
       "      <th>date</th>\n",
       "      <th>day_of_week</th>\n",
       "      <th>day</th>\n",
       "      <th>month</th>\n",
       "      <th>year</th>\n",
       "      <th>address</th>\n",
       "      <th>city_or_county</th>\n",
       "      <th>state</th>\n",
       "      <th>...</th>\n",
       "      <th>n_suspect</th>\n",
       "      <th>location_description</th>\n",
       "      <th>latitude</th>\n",
       "      <th>longitude</th>\n",
       "      <th>state_house_district</th>\n",
       "      <th>state_senate_district</th>\n",
       "      <th>congressional_district</th>\n",
       "      <th>kills_flag</th>\n",
       "      <th>injured_flag</th>\n",
       "      <th>guns_flag</th>\n",
       "    </tr>\n",
       "  </thead>\n",
       "  <tbody>\n",
       "    <tr>\n",
       "      <th>0</th>\n",
       "      <td>0</td>\n",
       "      <td>461105</td>\n",
       "      <td>2013-01-01</td>\n",
       "      <td>Tuesday</td>\n",
       "      <td>1</td>\n",
       "      <td>1</td>\n",
       "      <td>2013</td>\n",
       "      <td>1506 Versailles Avenue and Coursin Street</td>\n",
       "      <td>Mckeesport</td>\n",
       "      <td>Pennsylvania</td>\n",
       "      <td>...</td>\n",
       "      <td>1</td>\n",
       "      <td>Unknown</td>\n",
       "      <td>40.3467</td>\n",
       "      <td>-79.8559</td>\n",
       "      <td>NaN</td>\n",
       "      <td>NaN</td>\n",
       "      <td>14.0</td>\n",
       "      <td>single kill</td>\n",
       "      <td>low injured</td>\n",
       "      <td>NaN</td>\n",
       "    </tr>\n",
       "    <tr>\n",
       "      <th>1</th>\n",
       "      <td>1</td>\n",
       "      <td>460726</td>\n",
       "      <td>2013-01-01</td>\n",
       "      <td>Tuesday</td>\n",
       "      <td>1</td>\n",
       "      <td>1</td>\n",
       "      <td>2013</td>\n",
       "      <td>13500 block of Cerise Avenue</td>\n",
       "      <td>Hawthorne</td>\n",
       "      <td>California</td>\n",
       "      <td>...</td>\n",
       "      <td>1</td>\n",
       "      <td>Unknown</td>\n",
       "      <td>33.9090</td>\n",
       "      <td>-118.3330</td>\n",
       "      <td>62.0</td>\n",
       "      <td>35.0</td>\n",
       "      <td>43.0</td>\n",
       "      <td>single kill</td>\n",
       "      <td>low injured</td>\n",
       "      <td>NaN</td>\n",
       "    </tr>\n",
       "    <tr>\n",
       "      <th>2</th>\n",
       "      <td>2</td>\n",
       "      <td>478855</td>\n",
       "      <td>2013-01-01</td>\n",
       "      <td>Tuesday</td>\n",
       "      <td>1</td>\n",
       "      <td>1</td>\n",
       "      <td>2013</td>\n",
       "      <td>1776 East 28th Street</td>\n",
       "      <td>Lorain</td>\n",
       "      <td>Ohio</td>\n",
       "      <td>...</td>\n",
       "      <td>2</td>\n",
       "      <td>Cotton Club</td>\n",
       "      <td>41.4455</td>\n",
       "      <td>-82.1377</td>\n",
       "      <td>56.0</td>\n",
       "      <td>13.0</td>\n",
       "      <td>9.0</td>\n",
       "      <td>single kill</td>\n",
       "      <td>low injured</td>\n",
       "      <td>low guns</td>\n",
       "    </tr>\n",
       "    <tr>\n",
       "      <th>3</th>\n",
       "      <td>3</td>\n",
       "      <td>478925</td>\n",
       "      <td>2013-01-05</td>\n",
       "      <td>Saturday</td>\n",
       "      <td>5</td>\n",
       "      <td>1</td>\n",
       "      <td>2013</td>\n",
       "      <td>16000 block of East Ithaca Place</td>\n",
       "      <td>Aurora</td>\n",
       "      <td>Colorado</td>\n",
       "      <td>...</td>\n",
       "      <td>1</td>\n",
       "      <td>Unknown</td>\n",
       "      <td>39.6518</td>\n",
       "      <td>-104.8020</td>\n",
       "      <td>40.0</td>\n",
       "      <td>28.0</td>\n",
       "      <td>6.0</td>\n",
       "      <td>low kills</td>\n",
       "      <td>single injured</td>\n",
       "      <td>NaN</td>\n",
       "    </tr>\n",
       "    <tr>\n",
       "      <th>4</th>\n",
       "      <td>4</td>\n",
       "      <td>478959</td>\n",
       "      <td>2013-01-07</td>\n",
       "      <td>Monday</td>\n",
       "      <td>7</td>\n",
       "      <td>1</td>\n",
       "      <td>2013</td>\n",
       "      <td>307 Mourning Dove Terrace</td>\n",
       "      <td>Greensboro</td>\n",
       "      <td>North Carolina</td>\n",
       "      <td>...</td>\n",
       "      <td>1</td>\n",
       "      <td>Unknown</td>\n",
       "      <td>36.1140</td>\n",
       "      <td>-79.9569</td>\n",
       "      <td>62.0</td>\n",
       "      <td>27.0</td>\n",
       "      <td>6.0</td>\n",
       "      <td>low kills</td>\n",
       "      <td>low injured</td>\n",
       "      <td>low guns</td>\n",
       "    </tr>\n",
       "  </tbody>\n",
       "</table>\n",
       "<p>5 rows × 30 columns</p>\n",
       "</div>"
      ],
      "text/plain": [
       "   Unnamed: 0  incident_id        date day_of_week  day  month  year  \\\n",
       "0           0       461105  2013-01-01     Tuesday    1      1  2013   \n",
       "1           1       460726  2013-01-01     Tuesday    1      1  2013   \n",
       "2           2       478855  2013-01-01     Tuesday    1      1  2013   \n",
       "3           3       478925  2013-01-05    Saturday    5      1  2013   \n",
       "4           4       478959  2013-01-07      Monday    7      1  2013   \n",
       "\n",
       "                                     address city_or_county           state  \\\n",
       "0  1506 Versailles Avenue and Coursin Street     Mckeesport    Pennsylvania   \n",
       "1               13500 block of Cerise Avenue      Hawthorne      California   \n",
       "2                      1776 East 28th Street         Lorain            Ohio   \n",
       "3           16000 block of East Ithaca Place         Aurora        Colorado   \n",
       "4                  307 Mourning Dove Terrace     Greensboro  North Carolina   \n",
       "\n",
       "   ...  n_suspect  location_description  latitude  longitude  \\\n",
       "0  ...          1               Unknown   40.3467   -79.8559   \n",
       "1  ...          1               Unknown   33.9090  -118.3330   \n",
       "2  ...          2           Cotton Club   41.4455   -82.1377   \n",
       "3  ...          1               Unknown   39.6518  -104.8020   \n",
       "4  ...          1               Unknown   36.1140   -79.9569   \n",
       "\n",
       "   state_house_district  state_senate_district  congressional_district  \\\n",
       "0                   NaN                    NaN                    14.0   \n",
       "1                  62.0                   35.0                    43.0   \n",
       "2                  56.0                   13.0                     9.0   \n",
       "3                  40.0                   28.0                     6.0   \n",
       "4                  62.0                   27.0                     6.0   \n",
       "\n",
       "    kills_flag    injured_flag  guns_flag  \n",
       "0  single kill     low injured        NaN  \n",
       "1  single kill     low injured        NaN  \n",
       "2  single kill     low injured   low guns  \n",
       "3    low kills  single injured        NaN  \n",
       "4    low kills     low injured   low guns  \n",
       "\n",
       "[5 rows x 30 columns]"
      ]
     },
     "execution_count": 3,
     "metadata": {},
     "output_type": "execute_result"
    }
   ],
   "source": [
    "path = r'C:\\Users\\eog87\\Desktop\\Data Analytics\\2. Data Immersion\\6. Advanced Analytics N Dashboard Design'\n",
    "df = pd.read_csv(os.path.join(path, '4. Supervised Machine Learning_Regression', 'gun_violence_ex2.csv'))\n",
    "df.head()"
   ]
  },
  {
   "cell_type": "markdown",
   "id": "8a8e1476",
   "metadata": {},
   "source": [
    "#### 3. Cleaning Data"
   ]
  },
  {
   "cell_type": "code",
   "execution_count": 4,
   "id": "90064291",
   "metadata": {},
   "outputs": [
    {
     "data": {
      "text/html": [
       "<div>\n",
       "<style scoped>\n",
       "    .dataframe tbody tr th:only-of-type {\n",
       "        vertical-align: middle;\n",
       "    }\n",
       "\n",
       "    .dataframe tbody tr th {\n",
       "        vertical-align: top;\n",
       "    }\n",
       "\n",
       "    .dataframe thead th {\n",
       "        text-align: right;\n",
       "    }\n",
       "</style>\n",
       "<table border=\"1\" class=\"dataframe\">\n",
       "  <thead>\n",
       "    <tr style=\"text-align: right;\">\n",
       "      <th></th>\n",
       "      <th>incident_id</th>\n",
       "      <th>date</th>\n",
       "      <th>day_of_week</th>\n",
       "      <th>day</th>\n",
       "      <th>month</th>\n",
       "      <th>year</th>\n",
       "      <th>address</th>\n",
       "      <th>city_or_county</th>\n",
       "      <th>state</th>\n",
       "      <th>n_participants</th>\n",
       "      <th>n_guns_involved</th>\n",
       "      <th>n_killed</th>\n",
       "      <th>n_injured</th>\n",
       "      <th>n_adult</th>\n",
       "      <th>n_teen</th>\n",
       "      <th>n_child</th>\n",
       "      <th>n_male</th>\n",
       "      <th>n_female</th>\n",
       "      <th>n_victim</th>\n",
       "      <th>n_suspect</th>\n",
       "      <th>location_description</th>\n",
       "      <th>latitude</th>\n",
       "      <th>longitude</th>\n",
       "      <th>state_house_district</th>\n",
       "      <th>state_senate_district</th>\n",
       "      <th>congressional_district</th>\n",
       "      <th>kills_flag</th>\n",
       "      <th>injured_flag</th>\n",
       "      <th>guns_flag</th>\n",
       "    </tr>\n",
       "  </thead>\n",
       "  <tbody>\n",
       "    <tr>\n",
       "      <th>0</th>\n",
       "      <td>461105</td>\n",
       "      <td>2013-01-01</td>\n",
       "      <td>Tuesday</td>\n",
       "      <td>1</td>\n",
       "      <td>1</td>\n",
       "      <td>2013</td>\n",
       "      <td>1506 Versailles Avenue and Coursin Street</td>\n",
       "      <td>Mckeesport</td>\n",
       "      <td>Pennsylvania</td>\n",
       "      <td>5</td>\n",
       "      <td>NaN</td>\n",
       "      <td>0</td>\n",
       "      <td>4</td>\n",
       "      <td>5</td>\n",
       "      <td>0</td>\n",
       "      <td>0</td>\n",
       "      <td>3</td>\n",
       "      <td>1</td>\n",
       "      <td>4</td>\n",
       "      <td>1</td>\n",
       "      <td>Unknown</td>\n",
       "      <td>40.3467</td>\n",
       "      <td>-79.8559</td>\n",
       "      <td>NaN</td>\n",
       "      <td>NaN</td>\n",
       "      <td>14.0</td>\n",
       "      <td>single kill</td>\n",
       "      <td>low injured</td>\n",
       "      <td>NaN</td>\n",
       "    </tr>\n",
       "    <tr>\n",
       "      <th>1</th>\n",
       "      <td>460726</td>\n",
       "      <td>2013-01-01</td>\n",
       "      <td>Tuesday</td>\n",
       "      <td>1</td>\n",
       "      <td>1</td>\n",
       "      <td>2013</td>\n",
       "      <td>13500 block of Cerise Avenue</td>\n",
       "      <td>Hawthorne</td>\n",
       "      <td>California</td>\n",
       "      <td>4</td>\n",
       "      <td>NaN</td>\n",
       "      <td>1</td>\n",
       "      <td>3</td>\n",
       "      <td>4</td>\n",
       "      <td>0</td>\n",
       "      <td>0</td>\n",
       "      <td>1</td>\n",
       "      <td>0</td>\n",
       "      <td>4</td>\n",
       "      <td>1</td>\n",
       "      <td>Unknown</td>\n",
       "      <td>33.9090</td>\n",
       "      <td>-118.3330</td>\n",
       "      <td>62.0</td>\n",
       "      <td>35.0</td>\n",
       "      <td>43.0</td>\n",
       "      <td>single kill</td>\n",
       "      <td>low injured</td>\n",
       "      <td>NaN</td>\n",
       "    </tr>\n",
       "    <tr>\n",
       "      <th>2</th>\n",
       "      <td>478855</td>\n",
       "      <td>2013-01-01</td>\n",
       "      <td>Tuesday</td>\n",
       "      <td>1</td>\n",
       "      <td>1</td>\n",
       "      <td>2013</td>\n",
       "      <td>1776 East 28th Street</td>\n",
       "      <td>Lorain</td>\n",
       "      <td>Ohio</td>\n",
       "      <td>5</td>\n",
       "      <td>2.0</td>\n",
       "      <td>1</td>\n",
       "      <td>3</td>\n",
       "      <td>5</td>\n",
       "      <td>0</td>\n",
       "      <td>0</td>\n",
       "      <td>5</td>\n",
       "      <td>0</td>\n",
       "      <td>3</td>\n",
       "      <td>2</td>\n",
       "      <td>Cotton Club</td>\n",
       "      <td>41.4455</td>\n",
       "      <td>-82.1377</td>\n",
       "      <td>56.0</td>\n",
       "      <td>13.0</td>\n",
       "      <td>9.0</td>\n",
       "      <td>single kill</td>\n",
       "      <td>low injured</td>\n",
       "      <td>low guns</td>\n",
       "    </tr>\n",
       "    <tr>\n",
       "      <th>3</th>\n",
       "      <td>478925</td>\n",
       "      <td>2013-01-05</td>\n",
       "      <td>Saturday</td>\n",
       "      <td>5</td>\n",
       "      <td>1</td>\n",
       "      <td>2013</td>\n",
       "      <td>16000 block of East Ithaca Place</td>\n",
       "      <td>Aurora</td>\n",
       "      <td>Colorado</td>\n",
       "      <td>4</td>\n",
       "      <td>NaN</td>\n",
       "      <td>4</td>\n",
       "      <td>0</td>\n",
       "      <td>4</td>\n",
       "      <td>0</td>\n",
       "      <td>0</td>\n",
       "      <td>3</td>\n",
       "      <td>1</td>\n",
       "      <td>3</td>\n",
       "      <td>1</td>\n",
       "      <td>Unknown</td>\n",
       "      <td>39.6518</td>\n",
       "      <td>-104.8020</td>\n",
       "      <td>40.0</td>\n",
       "      <td>28.0</td>\n",
       "      <td>6.0</td>\n",
       "      <td>low kills</td>\n",
       "      <td>single injured</td>\n",
       "      <td>NaN</td>\n",
       "    </tr>\n",
       "    <tr>\n",
       "      <th>4</th>\n",
       "      <td>478959</td>\n",
       "      <td>2013-01-07</td>\n",
       "      <td>Monday</td>\n",
       "      <td>7</td>\n",
       "      <td>1</td>\n",
       "      <td>2013</td>\n",
       "      <td>307 Mourning Dove Terrace</td>\n",
       "      <td>Greensboro</td>\n",
       "      <td>North Carolina</td>\n",
       "      <td>4</td>\n",
       "      <td>2.0</td>\n",
       "      <td>2</td>\n",
       "      <td>2</td>\n",
       "      <td>3</td>\n",
       "      <td>1</td>\n",
       "      <td>0</td>\n",
       "      <td>2</td>\n",
       "      <td>2</td>\n",
       "      <td>3</td>\n",
       "      <td>1</td>\n",
       "      <td>Unknown</td>\n",
       "      <td>36.1140</td>\n",
       "      <td>-79.9569</td>\n",
       "      <td>62.0</td>\n",
       "      <td>27.0</td>\n",
       "      <td>6.0</td>\n",
       "      <td>low kills</td>\n",
       "      <td>low injured</td>\n",
       "      <td>low guns</td>\n",
       "    </tr>\n",
       "  </tbody>\n",
       "</table>\n",
       "</div>"
      ],
      "text/plain": [
       "   incident_id        date day_of_week  day  month  year  \\\n",
       "0       461105  2013-01-01     Tuesday    1      1  2013   \n",
       "1       460726  2013-01-01     Tuesday    1      1  2013   \n",
       "2       478855  2013-01-01     Tuesday    1      1  2013   \n",
       "3       478925  2013-01-05    Saturday    5      1  2013   \n",
       "4       478959  2013-01-07      Monday    7      1  2013   \n",
       "\n",
       "                                     address city_or_county           state  \\\n",
       "0  1506 Versailles Avenue and Coursin Street     Mckeesport    Pennsylvania   \n",
       "1               13500 block of Cerise Avenue      Hawthorne      California   \n",
       "2                      1776 East 28th Street         Lorain            Ohio   \n",
       "3           16000 block of East Ithaca Place         Aurora        Colorado   \n",
       "4                  307 Mourning Dove Terrace     Greensboro  North Carolina   \n",
       "\n",
       "   n_participants  n_guns_involved  n_killed  n_injured  n_adult  n_teen  \\\n",
       "0               5              NaN         0          4        5       0   \n",
       "1               4              NaN         1          3        4       0   \n",
       "2               5              2.0         1          3        5       0   \n",
       "3               4              NaN         4          0        4       0   \n",
       "4               4              2.0         2          2        3       1   \n",
       "\n",
       "   n_child  n_male  n_female  n_victim  n_suspect location_description  \\\n",
       "0        0       3         1         4          1              Unknown   \n",
       "1        0       1         0         4          1              Unknown   \n",
       "2        0       5         0         3          2          Cotton Club   \n",
       "3        0       3         1         3          1              Unknown   \n",
       "4        0       2         2         3          1              Unknown   \n",
       "\n",
       "   latitude  longitude  state_house_district  state_senate_district  \\\n",
       "0   40.3467   -79.8559                   NaN                    NaN   \n",
       "1   33.9090  -118.3330                  62.0                   35.0   \n",
       "2   41.4455   -82.1377                  56.0                   13.0   \n",
       "3   39.6518  -104.8020                  40.0                   28.0   \n",
       "4   36.1140   -79.9569                  62.0                   27.0   \n",
       "\n",
       "   congressional_district   kills_flag    injured_flag guns_flag  \n",
       "0                    14.0  single kill     low injured       NaN  \n",
       "1                    43.0  single kill     low injured       NaN  \n",
       "2                     9.0  single kill     low injured  low guns  \n",
       "3                     6.0    low kills  single injured       NaN  \n",
       "4                     6.0    low kills     low injured  low guns  "
      ]
     },
     "execution_count": 4,
     "metadata": {},
     "output_type": "execute_result"
    }
   ],
   "source": [
    "pd.set_option('display.max_columns', None)\n",
    "df = df.drop(columns=['Unnamed: 0'])\n",
    "df.head()"
   ]
  },
  {
   "cell_type": "code",
   "execution_count": 5,
   "id": "059cb823",
   "metadata": {},
   "outputs": [
    {
     "data": {
      "text/plain": [
       "Index(['incident_id', 'date', 'day_of_week', 'day', 'month', 'year', 'address',\n",
       "       'city_or_county', 'state', 'n_participants', 'n_guns_involved',\n",
       "       'n_killed', 'n_injured', 'n_adult', 'n_teen', 'n_child', 'n_male',\n",
       "       'n_female', 'n_victim', 'n_suspect', 'location_description', 'latitude',\n",
       "       'longitude', 'state_house_district', 'state_senate_district',\n",
       "       'congressional_district', 'kills_flag', 'injured_flag', 'guns_flag'],\n",
       "      dtype='object')"
      ]
     },
     "execution_count": 5,
     "metadata": {},
     "output_type": "execute_result"
    }
   ],
   "source": [
    "df.columns"
   ]
  },
  {
   "cell_type": "markdown",
   "id": "0ae56c78",
   "metadata": {},
   "source": [
    "#### 4. Explore your data visually (e.g., by way of a scatterplot), looking for variables whose relationship you’d like to test."
   ]
  },
  {
   "cell_type": "code",
   "execution_count": 4,
   "id": "a59b4970",
   "metadata": {
    "scrolled": false
   },
   "outputs": [
    {
     "name": "stderr",
     "output_type": "stream",
     "text": [
      "C:\\Users\\eog87\\anaconda\\Lib\\site-packages\\seaborn\\axisgrid.py:118: UserWarning: The figure layout has changed to tight\n",
      "  self._figure.tight_layout(*args, **kwargs)\n"
     ]
    },
    {
     "data": {
      "image/png": "[encoded data removed]",
      "text/plain": [
       "<Figure size 500x500 with 1 Axes>"
      ]
     },
     "metadata": {},
     "output_type": "display_data"
    }
   ],
   "source": [
    "# Create a scatterplot using matplotlib for another look at how the chosen variables plot against each other.\n",
    "scatterplot = sns.lmplot(data=df, x=\"n_participants\", y=\"n_male\")"
   ]
  },
  {
   "cell_type": "code",
   "execution_count": 5,
   "id": "5aa75eac",
   "metadata": {},
   "outputs": [],
   "source": [
    "path2 = r'C:\\Users\\eog87\\Desktop\\Data Analytics\\2. Data Immersion\\6. Advanced Analytics N Dashboard Design\\7. Creating Data Dashboards\\Github'\n",
    "scatterplot.figure.savefig(os.path.join(path2, '04 Analysis','Visualizations', 'scatterplot.png'))"
   ]
  },
  {
   "cell_type": "markdown",
   "id": "9e751c63",
   "metadata": {},
   "source": [
    "#### 5. State your hypothesis in a markdown cell within your Jupyter notebook."
   ]
  },
  {
   "cell_type": "markdown",
   "id": "78d22451",
   "metadata": {},
   "source": [
    "Hypothesis: Most of the participants on a gun incident are males"
   ]
  },
  {
   "cell_type": "markdown",
   "id": "3dab5745",
   "metadata": {},
   "source": [
    "#### 6. Reshape the variables into NumPy arrays, with X being the independent variable and y being the dependent variable."
   ]
  },
  {
   "cell_type": "code",
   "execution_count": 7,
   "id": "9a43750f",
   "metadata": {},
   "outputs": [],
   "source": [
    "x = df['n_participants'].values.reshape(-1,1)\n",
    "y = df['n_male'].values.reshape(-1,1)"
   ]
  },
  {
   "cell_type": "code",
   "execution_count": 8,
   "id": "d5580069",
   "metadata": {},
   "outputs": [
    {
     "data": {
      "text/plain": [
       "array([[5],\n",
       "       [4],\n",
       "       [5],\n",
       "       ...,\n",
       "       [1],\n",
       "       [1],\n",
       "       [2]], dtype=int64)"
      ]
     },
     "execution_count": 8,
     "metadata": {},
     "output_type": "execute_result"
    }
   ],
   "source": [
    "x"
   ]
  },
  {
   "cell_type": "code",
   "execution_count": 9,
   "id": "33cf2ab7",
   "metadata": {},
   "outputs": [
    {
     "data": {
      "text/plain": [
       "array([[3],\n",
       "       [1],\n",
       "       [5],\n",
       "       ...,\n",
       "       [1],\n",
       "       [1],\n",
       "       [1]], dtype=int64)"
      ]
     },
     "execution_count": 9,
     "metadata": {},
     "output_type": "execute_result"
    }
   ],
   "source": [
    "y"
   ]
  },
  {
   "cell_type": "markdown",
   "id": "8df75803",
   "metadata": {},
   "source": [
    "#### 7. Split the data into two sets: a training set and a test set."
   ]
  },
  {
   "cell_type": "code",
   "execution_count": 10,
   "id": "f91b5ace",
   "metadata": {},
   "outputs": [],
   "source": [
    "x_train, x_test, y_train, y_test = train_test_split(x, y, test_size=0.3, random_state=0)"
   ]
  },
  {
   "cell_type": "markdown",
   "id": "a9a632fe",
   "metadata": {},
   "source": [
    "#### 8.Run a linear regression on the data.\n",
    "###### 8.1 First, fit the model you created to the training set."
   ]
  },
  {
   "cell_type": "code",
   "execution_count": 11,
   "id": "d8a41569",
   "metadata": {
    "scrolled": true
   },
   "outputs": [
    {
     "data": {
      "text/html": [
       "<style>#sk-container-id-1 {color: black;}#sk-container-id-1 pre{padding: 0;}#sk-container-id-1 div.sk-toggleable {background-color: white;}#sk-container-id-1 label.sk-toggleable__label {cursor: pointer;display: block;width: 100%;margin-bottom: 0;padding: 0.3em;box-sizing: border-box;text-align: center;}#sk-container-id-1 label.sk-toggleable__label-arrow:before {content: \"▸\";float: left;margin-right: 0.25em;color: #696969;}#sk-container-id-1 label.sk-toggleable__label-arrow:hover:before {color: black;}#sk-container-id-1 div.sk-estimator:hover label.sk-toggleable__label-arrow:before {color: black;}#sk-container-id-1 div.sk-toggleable__content {max-height: 0;max-width: 0;overflow: hidden;text-align: left;background-color: #f0f8ff;}#sk-container-id-1 div.sk-toggleable__content pre {margin: 0.2em;color: black;border-radius: 0.25em;background-color: #f0f8ff;}#sk-container-id-1 input.sk-toggleable__control:checked~div.sk-toggleable__content {max-height: 200px;max-width: 100%;overflow: auto;}#sk-container-id-1 input.sk-toggleable__control:checked~label.sk-toggleable__label-arrow:before {content: \"▾\";}#sk-container-id-1 div.sk-estimator input.sk-toggleable__control:checked~label.sk-toggleable__label {background-color: #d4ebff;}#sk-container-id-1 div.sk-label input.sk-toggleable__control:checked~label.sk-toggleable__label {background-color: #d4ebff;}#sk-container-id-1 input.sk-hidden--visually {border: 0;clip: rect(1px 1px 1px 1px);clip: rect(1px, 1px, 1px, 1px);height: 1px;margin: -1px;overflow: hidden;padding: 0;position: absolute;width: 1px;}#sk-container-id-1 div.sk-estimator {font-family: monospace;background-color: #f0f8ff;border: 1px dotted black;border-radius: 0.25em;box-sizing: border-box;margin-bottom: 0.5em;}#sk-container-id-1 div.sk-estimator:hover {background-color: #d4ebff;}#sk-container-id-1 div.sk-parallel-item::after {content: \"\";width: 100%;border-bottom: 1px solid gray;flex-grow: 1;}#sk-container-id-1 div.sk-label:hover label.sk-toggleable__label {background-color: #d4ebff;}#sk-container-id-1 div.sk-serial::before {content: \"\";position: absolute;border-left: 1px solid gray;box-sizing: border-box;top: 0;bottom: 0;left: 50%;z-index: 0;}#sk-container-id-1 div.sk-serial {display: flex;flex-direction: column;align-items: center;background-color: white;padding-right: 0.2em;padding-left: 0.2em;position: relative;}#sk-container-id-1 div.sk-item {position: relative;z-index: 1;}#sk-container-id-1 div.sk-parallel {display: flex;align-items: stretch;justify-content: center;background-color: white;position: relative;}#sk-container-id-1 div.sk-item::before, #sk-container-id-1 div.sk-parallel-item::before {content: \"\";position: absolute;border-left: 1px solid gray;box-sizing: border-box;top: 0;bottom: 0;left: 50%;z-index: -1;}#sk-container-id-1 div.sk-parallel-item {display: flex;flex-direction: column;z-index: 1;position: relative;background-color: white;}#sk-container-id-1 div.sk-parallel-item:first-child::after {align-self: flex-end;width: 50%;}#sk-container-id-1 div.sk-parallel-item:last-child::after {align-self: flex-start;width: 50%;}#sk-container-id-1 div.sk-parallel-item:only-child::after {width: 0;}#sk-container-id-1 div.sk-dashed-wrapped {border: 1px dashed gray;margin: 0 0.4em 0.5em 0.4em;box-sizing: border-box;padding-bottom: 0.4em;background-color: white;}#sk-container-id-1 div.sk-label label {font-family: monospace;font-weight: bold;display: inline-block;line-height: 1.2em;}#sk-container-id-1 div.sk-label-container {text-align: center;}#sk-container-id-1 div.sk-container {/* jupyter's `normalize.less` sets `[hidden] { display: none; }` but bootstrap.min.css set `[hidden] { display: none !important; }` so we also need the `!important` here to be able to override the default hidden behavior on the sphinx rendered scikit-learn.org. See: https://github.com/scikit-learn/scikit-learn/issues/21755 */display: inline-block !important;position: relative;}#sk-container-id-1 div.sk-text-repr-fallback {display: none;}</style><div id=\"sk-container-id-1\" class=\"sk-top-container\"><div class=\"sk-text-repr-fallback\"><pre>LinearRegression()</pre><b>In a Jupyter environment, please rerun this cell to show the HTML representation or trust the notebook. <br />On GitHub, the HTML representation is unable to render, please try loading this page with nbviewer.org.</b></div><div class=\"sk-container\" hidden><div class=\"sk-item\"><div class=\"sk-estimator sk-toggleable\"><input class=\"sk-toggleable__control sk-hidden--visually\" id=\"sk-estimator-id-1\" type=\"checkbox\" checked><label for=\"sk-estimator-id-1\" class=\"sk-toggleable__label sk-toggleable__label-arrow\">LinearRegression</label><div class=\"sk-toggleable__content\"><pre>LinearRegression()</pre></div></div></div></div></div>"
      ],
      "text/plain": [
       "LinearRegression()"
      ]
     },
     "execution_count": 11,
     "metadata": {},
     "output_type": "execute_result"
    }
   ],
   "source": [
    "# create linear regression object\n",
    "regression = LinearRegression()\n",
    "\n",
    "# fit regression to training set\n",
    "regression.fit(x_train, y_train)"
   ]
  },
  {
   "cell_type": "code",
   "execution_count": 12,
   "id": "1a85c7af",
   "metadata": {},
   "outputs": [],
   "source": [
    "y_predicted_train = regression.predict(x_train)"
   ]
  },
  {
   "cell_type": "code",
   "execution_count": 13,
   "id": "63aeffde",
   "metadata": {},
   "outputs": [
    {
     "data": {
      "image/png": "[encoded data removed]",
      "text/plain": [
       "<Figure size 640x480 with 1 Axes>"
      ]
     },
     "metadata": {},
     "output_type": "display_data"
    }
   ],
   "source": [
    "# Visualized the training set results\n",
    "plot_train = plt\n",
    "plot_train.scatter(x_train, y_train, color='purple')\n",
    "plot_train.plot(x_train, y_predicted_train, color='red')\n",
    "plot_train.title('Prediction of males involved in a gun incident vs number of participants - Train Set')\n",
    "plot_train.xlabel('Units Sold')\n",
    "plot_train.ylabel('Total Sales')\n",
    "plot_train.show()"
   ]
  },
  {
   "cell_type": "code",
   "execution_count": 15,
   "id": "a6ee9c29",
   "metadata": {},
   "outputs": [
    {
     "data": {
      "text/plain": [
       "<Figure size 640x480 with 0 Axes>"
      ]
     },
     "metadata": {},
     "output_type": "display_data"
    }
   ],
   "source": [
    "plot_train.savefig(os.path.join(path2, '04 Analysis','Visualizations', 'plot_train.png'))"
   ]
  },
  {
   "cell_type": "markdown",
   "id": "a511dbea",
   "metadata": {},
   "source": [
    "###### 8.2 Then, create a prediction for y on the test set."
   ]
  },
  {
   "cell_type": "code",
   "execution_count": 17,
   "id": "dae1cefc",
   "metadata": {},
   "outputs": [],
   "source": [
    "y_predicted_test = regression.predict(x_test)"
   ]
  },
  {
   "cell_type": "markdown",
   "id": "36683950",
   "metadata": {},
   "source": [
    "#### 9. Create a plot that shows the regression line on the test set."
   ]
  },
  {
   "cell_type": "code",
   "execution_count": 18,
   "id": "58570715",
   "metadata": {
    "scrolled": false
   },
   "outputs": [
    {
     "data": {
      "image/png": "[encoded data removed]",
      "text/plain": [
       "<Figure size 640x480 with 1 Axes>"
      ]
     },
     "metadata": {},
     "output_type": "display_data"
    }
   ],
   "source": [
    "# Visualized the test set results\n",
    "plot_test = plt\n",
    "plot_test.scatter(x_test, y_test, color='purple')\n",
    "plot_test.plot(x_test, y_predicted_test, color='red')\n",
    "plot_test.title('Prediction of males involved in a gun incident vs number of participants - Test Set')\n",
    "plot_test.xlabel('#Participants')\n",
    "plot_test.ylabel('#Males')\n",
    "plot_test.show()"
   ]
  },
  {
   "cell_type": "code",
   "execution_count": 19,
   "id": "db7df200",
   "metadata": {},
   "outputs": [
    {
     "data": {
      "text/plain": [
       "<Figure size 640x480 with 0 Axes>"
      ]
     },
     "metadata": {},
     "output_type": "display_data"
    }
   ],
   "source": [
    "plot_test.savefig(os.path.join(path2, '04 Analysis','Visualizations', 'plot_test.png'))"
   ]
  },
  {
   "cell_type": "markdown",
   "id": "ac6f37e4",
   "metadata": {},
   "source": [
    "#### 10. Write your own interpretation of how well the line appears to fit the data in a markdown cell."
   ]
  },
  {
   "cell_type": "markdown",
   "id": "074cb336",
   "metadata": {},
   "source": [
    "The 2 plots look different, the prediction line looks similar though"
   ]
  },
  {
   "cell_type": "markdown",
   "id": "f9600356",
   "metadata": {},
   "source": [
    "#### 11. Check the model performance statistics—MSE and R2 score."
   ]
  },
  {
   "cell_type": "code",
   "execution_count": 26,
   "id": "ffeb539b",
   "metadata": {},
   "outputs": [],
   "source": [
    "rmse = mean_squared_error(y_train, y_predicted_train)\n",
    "r2 = r2_score(y_train, y_predicted_train)"
   ]
  },
  {
   "cell_type": "code",
   "execution_count": 27,
   "id": "6cbe34f1",
   "metadata": {},
   "outputs": [
    {
     "name": "stdout",
     "output_type": "stream",
     "text": [
      "Slope:  [[0.67773722]]\n",
      "Mean squared error:  0.43197823895545656\n",
      "R2 score:  0.6127795527974231\n"
     ]
    }
   ],
   "source": [
    "print('Slope: ', regression.coef_)\n",
    "print('Mean squared error: ', rmse)\n",
    "print('R2 score: ', r2)"
   ]
  },
  {
   "cell_type": "code",
   "execution_count": 32,
   "id": "c3b9ba9c",
   "metadata": {},
   "outputs": [],
   "source": [
    "rmse2 = mean_squared_error(y_test, y_predicted_test)\n",
    "r22 = r2_score(y_test, y_predicted_test)"
   ]
  },
  {
   "cell_type": "code",
   "execution_count": 33,
   "id": "ad2d9b05",
   "metadata": {},
   "outputs": [
    {
     "name": "stdout",
     "output_type": "stream",
     "text": [
      "Slope:  [[0.67773722]]\n",
      "Mean squared error:  0.4309273649960054\n",
      "R2 score:  0.6402173866203571\n"
     ]
    }
   ],
   "source": [
    "print('Slope: ', regression.coef_)\n",
    "print('Mean squared error: ', rmse2)\n",
    "print('R2 score: ', r22)"
   ]
  },
  {
   "cell_type": "markdown",
   "id": "5e7175c9",
   "metadata": {},
   "source": [
    "#### 12. Compare the predicted y values with the actual y values in a dataframe."
   ]
  },
  {
   "cell_type": "code",
   "execution_count": 38,
   "id": "feff9409",
   "metadata": {},
   "outputs": [
    {
     "data": {
      "text/html": [
       "<div>\n",
       "<style scoped>\n",
       "    .dataframe tbody tr th:only-of-type {\n",
       "        vertical-align: middle;\n",
       "    }\n",
       "\n",
       "    .dataframe tbody tr th {\n",
       "        vertical-align: top;\n",
       "    }\n",
       "\n",
       "    .dataframe thead th {\n",
       "        text-align: right;\n",
       "    }\n",
       "</style>\n",
       "<table border=\"1\" class=\"dataframe\">\n",
       "  <thead>\n",
       "    <tr style=\"text-align: right;\">\n",
       "      <th></th>\n",
       "      <th>Actual</th>\n",
       "      <th>Predicted</th>\n",
       "    </tr>\n",
       "  </thead>\n",
       "  <tbody>\n",
       "    <tr>\n",
       "      <th>0</th>\n",
       "      <td>0</td>\n",
       "      <td>0.912880</td>\n",
       "    </tr>\n",
       "    <tr>\n",
       "      <th>1</th>\n",
       "      <td>2</td>\n",
       "      <td>3.623829</td>\n",
       "    </tr>\n",
       "    <tr>\n",
       "      <th>2</th>\n",
       "      <td>0</td>\n",
       "      <td>0.912880</td>\n",
       "    </tr>\n",
       "    <tr>\n",
       "      <th>3</th>\n",
       "      <td>1</td>\n",
       "      <td>0.912880</td>\n",
       "    </tr>\n",
       "    <tr>\n",
       "      <th>4</th>\n",
       "      <td>2</td>\n",
       "      <td>1.590617</td>\n",
       "    </tr>\n",
       "    <tr>\n",
       "      <th>5</th>\n",
       "      <td>1</td>\n",
       "      <td>0.912880</td>\n",
       "    </tr>\n",
       "    <tr>\n",
       "      <th>6</th>\n",
       "      <td>4</td>\n",
       "      <td>2.946091</td>\n",
       "    </tr>\n",
       "    <tr>\n",
       "      <th>7</th>\n",
       "      <td>2</td>\n",
       "      <td>1.590617</td>\n",
       "    </tr>\n",
       "    <tr>\n",
       "      <th>8</th>\n",
       "      <td>1</td>\n",
       "      <td>0.912880</td>\n",
       "    </tr>\n",
       "    <tr>\n",
       "      <th>9</th>\n",
       "      <td>2</td>\n",
       "      <td>1.590617</td>\n",
       "    </tr>\n",
       "    <tr>\n",
       "      <th>10</th>\n",
       "      <td>1</td>\n",
       "      <td>0.912880</td>\n",
       "    </tr>\n",
       "    <tr>\n",
       "      <th>11</th>\n",
       "      <td>1</td>\n",
       "      <td>1.590617</td>\n",
       "    </tr>\n",
       "    <tr>\n",
       "      <th>12</th>\n",
       "      <td>2</td>\n",
       "      <td>1.590617</td>\n",
       "    </tr>\n",
       "    <tr>\n",
       "      <th>13</th>\n",
       "      <td>0</td>\n",
       "      <td>0.235143</td>\n",
       "    </tr>\n",
       "    <tr>\n",
       "      <th>14</th>\n",
       "      <td>2</td>\n",
       "      <td>1.590617</td>\n",
       "    </tr>\n",
       "    <tr>\n",
       "      <th>15</th>\n",
       "      <td>0</td>\n",
       "      <td>0.912880</td>\n",
       "    </tr>\n",
       "    <tr>\n",
       "      <th>16</th>\n",
       "      <td>2</td>\n",
       "      <td>1.590617</td>\n",
       "    </tr>\n",
       "    <tr>\n",
       "      <th>17</th>\n",
       "      <td>6</td>\n",
       "      <td>4.301566</td>\n",
       "    </tr>\n",
       "    <tr>\n",
       "      <th>18</th>\n",
       "      <td>1</td>\n",
       "      <td>1.590617</td>\n",
       "    </tr>\n",
       "    <tr>\n",
       "      <th>19</th>\n",
       "      <td>1</td>\n",
       "      <td>0.912880</td>\n",
       "    </tr>\n",
       "  </tbody>\n",
       "</table>\n",
       "</div>"
      ],
      "text/plain": [
       "    Actual  Predicted\n",
       "0        0   0.912880\n",
       "1        2   3.623829\n",
       "2        0   0.912880\n",
       "3        1   0.912880\n",
       "4        2   1.590617\n",
       "5        1   0.912880\n",
       "6        4   2.946091\n",
       "7        2   1.590617\n",
       "8        1   0.912880\n",
       "9        2   1.590617\n",
       "10       1   0.912880\n",
       "11       1   1.590617\n",
       "12       2   1.590617\n",
       "13       0   0.235143\n",
       "14       2   1.590617\n",
       "15       0   0.912880\n",
       "16       2   1.590617\n",
       "17       6   4.301566\n",
       "18       1   1.590617\n",
       "19       1   0.912880"
      ]
     },
     "execution_count": 38,
     "metadata": {},
     "output_type": "execute_result"
    }
   ],
   "source": [
    "# Created a dataframe comparing the actual and predicted values of y\n",
    "data = pd.DataFrame({'Actual': y_test.flatten(), 'Predicted': y_predicted_test.flatten()})\n",
    "data.head(20)"
   ]
  },
  {
   "cell_type": "markdown",
   "id": "2edd8b87",
   "metadata": {},
   "source": [
    "#### 13. Include your thoughts on how well the model performed on the test set in a markdown cell."
   ]
  },
  {
   "cell_type": "markdown",
   "id": "f1b23b04",
   "metadata": {},
   "source": [
    "If we look at the dataframe to compare numbers, they are most of them very close. I think it is a good prediction model."
   ]
  },
  {
   "cell_type": "markdown",
   "id": "2629802e",
   "metadata": {},
   "source": [
    "#### 13. Save dataframe"
   ]
  },
  {
   "cell_type": "code",
   "execution_count": 40,
   "id": "434684d1",
   "metadata": {},
   "outputs": [],
   "source": [
    "df.to_csv(os.path.join(path,'4. Supervised Machine Learning_Regression','gun_violence_ex4.csv'))\n"
   ]
  },
  {
   "cell_type": "code",
   "execution_count": null,
   "id": "e4a662d5",
   "metadata": {},
   "outputs": [],
   "source": []
  }
 ],
 "metadata": {
  "kernelspec": {
   "display_name": "Python 3 (ipykernel)",
   "language": "python",
   "name": "python3"
  },
  "language_info": {
   "codemirror_mode": {
    "name": "ipython",
    "version": 3
   },
   "file_extension": ".py",
   "mimetype": "text/x-python",
   "name": "python",
   "nbconvert_exporter": "python",
   "pygments_lexer": "ipython3",
   "version": "3.11.5"
  }
 },
 "nbformat": 4,
 "nbformat_minor": 5
}
